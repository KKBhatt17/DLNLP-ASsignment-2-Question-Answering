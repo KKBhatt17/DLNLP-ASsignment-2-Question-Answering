{
  "cells": [
    {
      "cell_type": "code",
      "execution_count": null,
      "metadata": {
        "id": "rHRg79OjKDVC"
      },
      "outputs": [],
      "source": [
        "# imports\n",
        "import numpy as np\n",
        "import pandas as pd\n",
        "import re, os, string, typing, gc, json"
      ]
    },
    {
      "cell_type": "code",
      "execution_count": null,
      "metadata": {
        "id": "8_EONOKUKKzX"
      },
      "outputs": [],
      "source": [
        "# loading data\n",
        "path1=\"/content/drive/MyDrive/squad/train.json\"\n",
        "path2=\"/content/drive/MyDrive/squad/dev.json\"\n",
        "with open(path1, 'r', encoding='utf-8') as f:\n",
        "        train_data = json.load(f)\n",
        "with open(path2, 'r', encoding='utf-8') as f:\n",
        "        dev_data = json.load(f)"
      ]
    },
    {
      "cell_type": "code",
      "source": [
        "# The SQUAD data is on the drive.\n",
        "\n",
        "from google.colab import drive\n",
        "drive.mount('/content/drive')"
      ],
      "metadata": {
        "id": "Ri6uigobiShn",
        "colab": {
          "base_uri": "https://localhost:8080/"
        },
        "outputId": "3e7f6461-b7bc-4419-f631-ae89a75e2eb2"
      },
      "execution_count": null,
      "outputs": [
        {
          "output_type": "stream",
          "name": "stdout",
          "text": [
            "Mounted at /content/drive\n"
          ]
        }
      ]
    },
    {
      "cell_type": "markdown",
      "metadata": {
        "id": "LQDP_oI1B1u8"
      },
      "source": [
        "## Function Definitions:"
      ]
    },
    {
      "cell_type": "code",
      "execution_count": null,
      "metadata": {
        "id": "_OGYpDRBOfNW"
      },
      "outputs": [],
      "source": [
        "# Extracting the data:\n",
        "\n",
        "def get_data(data:dict)->list:\n",
        "    data = data['data']\n",
        "    que_ans_list = []\n",
        "\n",
        "    for paragraphs in data:\n",
        "        for para in paragraphs['paragraphs']:\n",
        "            context = para['context']\n",
        "\n",
        "            for que_ans in para['qas']:\n",
        "                \n",
        "                id = que_ans['id']\n",
        "                question = que_ans['question']\n",
        "                \n",
        "                for ans in que_ans['answers']:\n",
        "                    answer = ans['text']\n",
        "                    ans_start = ans['answer_start']\n",
        "                    ans_end = ans_start + len(answer)\n",
        "                    que_ans_dict = {}\n",
        "                    que_ans_dict['id'] = id\n",
        "                    que_ans_dict['context'] = context\n",
        "                    que_ans_dict['question'] = question\n",
        "                    que_ans_dict['label'] = [ans_start, ans_end]\n",
        "\n",
        "                    que_ans_dict['answer'] = answer\n",
        "                    que_ans_list.append(que_ans_dict)    \n",
        "\n",
        "    return que_ans_list"
      ]
    },
    {
      "cell_type": "markdown",
      "metadata": {
        "id": "phLm4yS_CGcK"
      },
      "source": [
        "## Parsing data"
      ]
    },
    {
      "cell_type": "code",
      "execution_count": null,
      "metadata": {
        "id": "IC58T9heKx_2"
      },
      "outputs": [],
      "source": [
        "train_data_list=get_data(train_data)\n",
        "dev_data_list=get_data(dev_data)"
      ]
    },
    {
      "cell_type": "markdown",
      "metadata": {
        "id": "GNZ8kySdCYWj"
      },
      "source": [
        "## Data preprocessing"
      ]
    },
    {
      "cell_type": "code",
      "execution_count": null,
      "metadata": {
        "id": "TI4enocVPR6W"
      },
      "outputs": [],
      "source": [
        "indices=[]\n",
        "word1=\"how\"\n",
        "word2=\"why\"\n",
        "for i in range(0,len(train_data_list)):\n",
        "    ans_len=len(train_data_list[i]['answer'].split())\n",
        "    ctxt_len=len(train_data_list[i]['context'].split())\n",
        "    if ans_len>1 or ctxt_len>100 or word1 in train_data_list[i]['question'].lower() or word2 in train_data_list[i]['question'].lower():\n",
        "        indices.append(i)"
      ]
    },
    {
      "cell_type": "code",
      "source": [
        "# import seaborn as sns\n",
        "# sns.distplot(cl)"
      ],
      "metadata": {
        "colab": {
          "base_uri": "https://localhost:8080/",
          "height": 337
        },
        "id": "uzJsB4Pd9-Po",
        "outputId": "38697a66-d532-4fd6-a45d-e0c4959e9252"
      },
      "execution_count": null,
      "outputs": [
        {
          "output_type": "stream",
          "name": "stderr",
          "text": [
            "/usr/local/lib/python3.7/dist-packages/seaborn/distributions.py:2619: FutureWarning: `distplot` is a deprecated function and will be removed in a future version. Please adapt your code to use either `displot` (a figure-level function with similar flexibility) or `histplot` (an axes-level function for histograms).\n",
            "  warnings.warn(msg, FutureWarning)\n"
          ]
        },
        {
          "output_type": "execute_result",
          "data": {
            "text/plain": [
              "<matplotlib.axes._subplots.AxesSubplot at 0x7f6c1e97f910>"
            ]
          },
          "metadata": {},
          "execution_count": 108
        },
        {
          "output_type": "display_data",
          "data": {
            "image/png": "[encoded data removed]",
            "text/plain": [
              "<Figure size 432x288 with 1 Axes>"
            ]
          },
          "metadata": {
            "needs_background": "light"
          }
        }
      ]
    },
    {
      "cell_type": "code",
      "execution_count": null,
      "metadata": {
        "id": "BkOKwLH9PUMB"
      },
      "outputs": [],
      "source": [
        "for i in range(len(indices)-1,-1,-1):\n",
        "    train_data_list.pop(indices[i])"
      ]
    },
    {
      "cell_type": "code",
      "execution_count": null,
      "metadata": {
        "id": "57_5qgsGaDdh"
      },
      "outputs": [],
      "source": [
        "for i in range(0,len(train_data_list)):\n",
        "  train_data_list[i]['con_que']=train_data_list[i]['context']+' [SEP] '+train_data_list[i]['question']"
      ]
    },
    {
      "cell_type": "code",
      "source": [
        "# for i in range(0,len(train_data_list)):\n",
        "#   train_data_list[i]['que_ans']=train_data_list[i]['question']+' SEP '+train_data_list[i]['answer']"
      ],
      "metadata": {
        "id": "kZGihOLH2YpF"
      },
      "execution_count": null,
      "outputs": []
    },
    {
      "cell_type": "code",
      "execution_count": null,
      "metadata": {
        "id": "QmgDeP7OM2mu"
      },
      "outputs": [],
      "source": [
        "df = pd.DataFrame(train_data_list)"
      ]
    },
    {
      "cell_type": "markdown",
      "metadata": {
        "id": "snA97o5bv6u2"
      },
      "source": [
        "## New approach"
      ]
    },
    {
      "cell_type": "code",
      "execution_count": null,
      "metadata": {
        "id": "B-B07bNUv8YC"
      },
      "outputs": [],
      "source": [
        "from __future__ import absolute_import, division, print_function, unicode_literals\n",
        "\n",
        "try:\n",
        "  # %tensorflow_version only exists in Colab.\n",
        "  %tensorflow_version 2.x\n",
        "except Exception:\n",
        "  pass\n",
        "import tensorflow as tf\n",
        "\n",
        "import matplotlib.pyplot as plt\n",
        "import matplotlib.ticker as ticker\n",
        "from sklearn.model_selection import train_test_split\n",
        "import pandas as pd\n",
        "import unicodedata\n",
        "import re\n",
        "import numpy as np\n",
        "import os\n",
        "import io\n",
        "import time\n",
        "from string import digits"
      ]
    },
    {
      "cell_type": "code",
      "execution_count": null,
      "metadata": {
        "id": "t-Y_cKamR2Js"
      },
      "outputs": [],
      "source": [
        "def preprocess_sentence(sentence):\n",
        "    #sentence = unicode_to_ascii(sentence.lower().strip())\n",
        "    num_digits= str.maketrans('','', digits)\n",
        "    \n",
        "    sentence= sentence.lower()\n",
        "    sentence= re.sub(\" +\", \" \", sentence)\n",
        "    sentence= re.sub(\"'\", '', sentence)\n",
        "    #sentence= sentence.translate(num_digits)\n",
        "    sentence= sentence.strip()\n",
        "    sentence= re.sub(r\"([?.!,¿])\", r\" \\1 \", sentence)\n",
        "    sentence = sentence.rstrip().strip()\n",
        "    sentence=  'start_ ' + sentence + ' _end'\n",
        "    \n",
        "    return sentence\n",
        "\n",
        "def create_dataset(qa_list, num_examples):\n",
        "  lines=[]\n",
        "  for i in range(0,len(qa_list)):\n",
        "    lines.append(qa_list[i]['con_que']+'\\t'+qa_list[i]['answer'])\n",
        "  print(len(lines))\n",
        "  word_pairs = [[preprocess_sentence(w) for w in l.split('\\t')]  for l in lines[:num_examples]]\n",
        "  return zip(*word_pairs)"
      ]
    },
    {
      "cell_type": "code",
      "execution_count": null,
      "metadata": {
        "colab": {
          "base_uri": "https://localhost:8080/",
          "height": 35
        },
        "id": "20NqbV7ESTBl",
        "outputId": "d36eb461-ed53-4efd-9178-8a3c6c085d62"
      },
      "outputs": [
        {
          "output_type": "execute_result",
          "data": {
            "application/vnd.google.colaboratory.intrinsic+json": {
              "type": "string"
            },
            "text/plain": [
              "'start_ hello arent you 20 .  thats really good _end'"
            ]
          },
          "metadata": {},
          "execution_count": 102
        }
      ],
      "source": [
        "preprocess_sentence(\"Hello aren't you 20. that's really good\")"
      ]
    },
    {
      "cell_type": "code",
      "execution_count": null,
      "metadata": {
        "colab": {
          "base_uri": "https://localhost:8080/"
        },
        "id": "2CoRiLQbV9mg",
        "outputId": "e3a32a09-4acf-4d6d-a2e1-cc26f1c7c1f1"
      },
      "outputs": [
        {
          "output_type": "stream",
          "name": "stdout",
          "text": [
            "10213\n",
            "start_ in 1815 ,  the british government selected saint helena as the place of detention of napoleon bonaparte .  he was taken to the island in october 1815 .  napoleon stayed at the briars pavilion on the grounds of the balcombe familys home until his permanent residence ,  longwood house ,  was completed in december 1815 .  napoleon died there on 5 may 1821 .  [sep] what year did napoleon bonaparte pass away ? _end\n",
            "start_ 1821 _end\n"
          ]
        },
        {
          "output_type": "execute_result",
          "data": {
            "text/plain": [
              "tuple"
            ]
          },
          "metadata": {},
          "execution_count": 164
        }
      ],
      "source": [
        "sample_size=2000\n",
        "source, target = create_dataset(train_data_list,sample_size)\n",
        "print(source[-1])\n",
        "print(target[-1])\n",
        "type(target)"
      ]
    },
    {
      "cell_type": "code",
      "execution_count": null,
      "metadata": {
        "id": "2NT6XmCHYZC4"
      },
      "outputs": [],
      "source": [
        "def max_length(tensor):\n",
        "  return max(len(t) for t in tensor)"
      ]
    },
    {
      "cell_type": "code",
      "execution_count": null,
      "metadata": {
        "id": "BcugvRYWYikZ"
      },
      "outputs": [],
      "source": [
        "source_sentence_tokenizer= tf.keras.preprocessing.text.Tokenizer(filters='')\n",
        "source_sentence_tokenizer.fit_on_texts(source)\n",
        "source_tensor = source_sentence_tokenizer.texts_to_sequences(source)\n",
        "source_tensor= tf.keras.preprocessing.sequence.pad_sequences(source_tensor,padding='post' )"
      ]
    },
    {
      "cell_type": "code",
      "execution_count": null,
      "metadata": {
        "colab": {
          "base_uri": "https://localhost:8080/"
        },
        "id": "10-6rZx4ZRTR",
        "outputId": "57e5ea21-76ec-4e95-be6b-20a9eecd90ac"
      },
      "outputs": [
        {
          "output_type": "stream",
          "name": "stdout",
          "text": [
            "6\n"
          ]
        }
      ],
      "source": [
        "target_sentence_tokenizer= tf.keras.preprocessing.text.Tokenizer(filters='')\n",
        "target_sentence_tokenizer.fit_on_texts(target)\n",
        "target_tensor = target_sentence_tokenizer.texts_to_sequences(target)\n",
        "target_tensor= tf.keras.preprocessing.sequence.pad_sequences(target_tensor,padding='post' )\n",
        "print(len(target_tensor[0]))"
      ]
    },
    {
      "cell_type": "code",
      "execution_count": null,
      "metadata": {
        "colab": {
          "base_uri": "https://localhost:8080/"
        },
        "id": "_f6vrm9xZWbh",
        "outputId": "2e56abb8-c207-4e38-ba5e-d7a06d841e8e"
      },
      "outputs": [
        {
          "output_type": "stream",
          "name": "stdout",
          "text": [
            "6\n",
            "143\n"
          ]
        }
      ],
      "source": [
        "max_target_length= max(len(t) for t in  target_tensor)\n",
        "print(max_target_length)\n",
        "max_source_length= max(len(t) for t in  source_tensor)\n",
        "print(max_source_length)"
      ]
    },
    {
      "cell_type": "code",
      "execution_count": null,
      "metadata": {
        "id": "fl8P5M7OZlYp"
      },
      "outputs": [],
      "source": [
        "source_train_tensor, source_test_tensor, target_train_tensor, target_test_tensor= train_test_split(source_tensor, target_tensor,test_size=0.2)"
      ]
    },
    {
      "cell_type": "code",
      "execution_count": null,
      "metadata": {
        "colab": {
          "base_uri": "https://localhost:8080/"
        },
        "id": "V8Cxw_4TcpaD",
        "outputId": "dbf41aac-8692-420a-dd38-24b618ecd6cb"
      },
      "outputs": [
        {
          "output_type": "stream",
          "name": "stdout",
          "text": [
            "1600 1600 400 400\n"
          ]
        }
      ],
      "source": [
        "# Creating training and validation sets using an 80-20 split\n",
        "input_tensor_train, input_tensor_val, target_tensor_train, target_tensor_val = train_test_split(source_tensor, target_tensor, test_size=0.2)\n",
        "\n",
        "# Show length\n",
        "print(len(input_tensor_train), len(target_tensor_train), len(input_tensor_val), len(target_tensor_val))"
      ]
    },
    {
      "cell_type": "code",
      "execution_count": null,
      "metadata": {
        "colab": {
          "base_uri": "https://localhost:8080/"
        },
        "id": "nPTEdntgcyOK",
        "outputId": "dd76b6ad-70fc-42fe-f3b6-4a23f3aa57d5"
      },
      "outputs": [
        {
          "output_type": "execute_result",
          "data": {
            "text/plain": [
              "numpy.ndarray"
            ]
          },
          "metadata": {},
          "execution_count": 171
        }
      ],
      "source": [
        "type(input_tensor_train)"
      ]
    },
    {
      "cell_type": "code",
      "execution_count": null,
      "metadata": {
        "id": "oOK9IasCdG-y"
      },
      "outputs": [],
      "source": [
        "def convert(lang, tensor):\n",
        "  for t in tensor:\n",
        "    if t!=0:\n",
        "      print (\"%d ----> %s\" % (t, lang.index_word[t]))"
      ]
    },
    {
      "cell_type": "code",
      "execution_count": null,
      "metadata": {
        "colab": {
          "base_uri": "https://localhost:8080/"
        },
        "id": "VQy1losGdNm7",
        "outputId": "fe534097-b6cb-4c98-9f97-da66c6100d3d"
      },
      "outputs": [
        {
          "output_type": "stream",
          "name": "stdout",
          "text": [
            "Input Language; index to word mapping\n",
            "10 ----> start_\n",
            "1 ----> the\n",
            "671 ----> royal\n",
            "630 ----> canadian\n",
            "2751 ----> navy\n",
            "11909 ----> (rcn)\n",
            "2 ----> ,\n",
            "8691 ----> headed\n",
            "18 ----> by\n",
            "1 ----> the\n",
            "11910 ----> commander\n",
            "4 ----> of\n",
            "1 ----> the\n",
            "671 ----> royal\n",
            "630 ----> canadian\n",
            "2751 ----> navy\n",
            "2 ----> ,\n",
            "449 ----> includes\n",
            "1835 ----> 33\n",
            "11911 ----> warships\n",
            "6 ----> and\n",
            "5270 ----> submarines\n",
            "1907 ----> deployed\n",
            "5 ----> in\n",
            "94 ----> two\n",
            "11912 ----> fleets:\n",
            "3156 ----> maritime\n",
            "729 ----> forces\n",
            "3018 ----> pacific\n",
            "11913 ----> (marpac)\n",
            "31 ----> at\n",
            "6735 ----> cfb\n",
            "11914 ----> esquimalt\n",
            "19 ----> on\n",
            "1 ----> the\n",
            "127 ----> west\n",
            "1284 ----> coast\n",
            "2 ----> ,\n",
            "6 ----> and\n",
            "3156 ----> maritime\n",
            "729 ----> forces\n",
            "575 ----> atlantic\n",
            "11915 ----> (marlant)\n",
            "31 ----> at\n",
            "68 ----> her\n",
            "8950 ----> majestys\n",
            "630 ----> canadian\n",
            "1225 ----> dockyard\n",
            "5 ----> in\n",
            "6736 ----> halifax\n",
            "19 ----> on\n",
            "1 ----> the\n",
            "270 ----> east\n",
            "1284 ----> coast\n",
            "2 ----> ,\n",
            "16 ----> as\n",
            "124 ----> well\n",
            "16 ----> as\n",
            "46 ----> one\n",
            "11916 ----> formation:\n",
            "1 ----> the\n",
            "1633 ----> naval\n",
            "8911 ----> reserve\n",
            "1487 ----> headquarters\n",
            "11917 ----> (navreshq)\n",
            "31 ----> at\n",
            "6737 ----> quebec\n",
            "36 ----> city\n",
            "2 ----> ,\n",
            "6737 ----> quebec\n",
            "3 ----> .\n",
            "1 ----> the\n",
            "3008 ----> fleet\n",
            "13 ----> is\n",
            "11918 ----> augmented\n",
            "18 ----> by\n",
            "191 ----> various\n",
            "9109 ----> aircraft\n",
            "6 ----> and\n",
            "2249 ----> supply\n",
            "6738 ----> vessels\n",
            "3 ----> .\n",
            "1 ----> the\n",
            "11919 ----> rcn\n",
            "11920 ----> participates\n",
            "5 ----> in\n",
            "1137 ----> nato\n",
            "6599 ----> exercises\n",
            "6 ----> and\n",
            "900 ----> operations\n",
            "2 ----> ,\n",
            "6 ----> and\n",
            "3677 ----> ships\n",
            "23 ----> are\n",
            "1907 ----> deployed\n",
            "51 ----> all\n",
            "78 ----> over\n",
            "1 ----> the\n",
            "88 ----> world\n",
            "5 ----> in\n",
            "451 ----> support\n",
            "4 ----> of\n",
            "11921 ----> multinational\n",
            "11922 ----> deployments\n",
            "3 ----> .\n",
            "11 ----> [sep]\n",
            "87 ----> where\n",
            "23 ----> are\n",
            "1 ----> the\n",
            "3156 ----> maritime\n",
            "729 ----> forces\n",
            "575 ----> atlantic\n",
            "187 ----> located\n",
            "9 ----> ?\n",
            "12 ----> _end\n",
            "\n",
            "Target Language; index to word mapping\n",
            "1 ----> start_\n",
            "935 ----> halifax\n",
            "2 ----> _end\n"
          ]
        }
      ],
      "source": [
        "print (\"Input Language; index to word mapping\")\n",
        "convert(source_sentence_tokenizer, source_train_tensor[0])\n",
        "print ()\n",
        "print (\"Target Language; index to word mapping\")\n",
        "convert( target_sentence_tokenizer, target_train_tensor[0])"
      ]
    },
    {
      "cell_type": "code",
      "execution_count": null,
      "metadata": {
        "colab": {
          "base_uri": "https://localhost:8080/"
        },
        "id": "lNH6_YIKdS6K",
        "outputId": "86953cf9-5e19-4eb7-b00a-bef3c01c554f"
      },
      "outputs": [
        {
          "output_type": "execute_result",
          "data": {
            "text/plain": [
              "tensorflow.python.data.ops.dataset_ops.BatchDataset"
            ]
          },
          "metadata": {},
          "execution_count": 174
        }
      ],
      "source": [
        "BUFFER_SIZE = len(source_train_tensor)\n",
        "BATCH_SIZE = 32\n",
        "steps_per_epoch = len(source_train_tensor)//BATCH_SIZE\n",
        "embedding_dim = 256\n",
        "units = 1024\n",
        "vocab_inp_size = len(source_sentence_tokenizer.word_index)+1\n",
        "vocab_tar_size = len(target_sentence_tokenizer.word_index)+1\n",
        "\n",
        "dataset = tf.data.Dataset.from_tensor_slices((source_train_tensor, target_train_tensor)).shuffle(BUFFER_SIZE)\n",
        "dataset = dataset.batch(BATCH_SIZE, drop_remainder=True)\n",
        "type(dataset)"
      ]
    },
    {
      "cell_type": "code",
      "execution_count": null,
      "metadata": {
        "colab": {
          "base_uri": "https://localhost:8080/"
        },
        "id": "fm5mDRQPdiw6",
        "outputId": "230400a4-b3f3-4759-e514-930185ddbd0a"
      },
      "outputs": [
        {
          "output_type": "execute_result",
          "data": {
            "text/plain": [
              "(TensorShape([32, 143]), TensorShape([32, 6]))"
            ]
          },
          "metadata": {},
          "execution_count": 175
        }
      ],
      "source": [
        "example_input_batch, example_target_batch = next(iter(dataset))\n",
        "example_input_batch.shape, example_target_batch.shape"
      ]
    },
    {
      "cell_type": "code",
      "execution_count": null,
      "metadata": {
        "id": "aeusqbIxdn1q"
      },
      "outputs": [],
      "source": [
        "class Encoder(tf.keras.Model):\n",
        "  def __init__(self, vocab_size, embedding_dim, enc_units, batch_sz):\n",
        "    super(Encoder, self).__init__()\n",
        "    self.batch_sz = batch_sz\n",
        "    self.enc_units = enc_units\n",
        "    self.embedding = tf.keras.layers.Embedding(vocab_size, embedding_dim)\n",
        "    self.gru = tf.keras.layers.GRU(self.enc_units,\n",
        "                                   return_sequences=True,\n",
        "                                   return_state=True,\n",
        "                                   recurrent_initializer='glorot_uniform')\n",
        "\n",
        "  def call(self, x, hidden):\n",
        "    x = self.embedding(x)\n",
        "    output, state = self.gru(x, initial_state = hidden)\n",
        "    return output, state\n",
        "\n",
        "  def initialize_hidden_state(self):\n",
        "    return tf.zeros((self.batch_sz, self.enc_units))"
      ]
    },
    {
      "cell_type": "code",
      "execution_count": null,
      "metadata": {
        "colab": {
          "base_uri": "https://localhost:8080/"
        },
        "id": "gWQg_As8dtKS",
        "outputId": "185558bb-a92c-42e8-dba9-ec05ade1d4a9"
      },
      "outputs": [
        {
          "output_type": "stream",
          "name": "stdout",
          "text": [
            "Encoder output shape: (batch size, sequence length, units) (32, 143, 1024)\n",
            "Encoder Hidden state shape: (batch size, units) (32, 1024)\n"
          ]
        }
      ],
      "source": [
        "encoder = Encoder(vocab_inp_size, embedding_dim, units, BATCH_SIZE)\n",
        "\n",
        "# sample input\n",
        "sample_hidden = encoder.initialize_hidden_state()\n",
        "sample_output, sample_hidden = encoder(example_input_batch, sample_hidden)\n",
        "print ('Encoder output shape: (batch size, sequence length, units) {}'.format(sample_output.shape))\n",
        "print ('Encoder Hidden state shape: (batch size, units) {}'.format(sample_hidden.shape))"
      ]
    },
    {
      "cell_type": "code",
      "execution_count": null,
      "metadata": {
        "id": "NronxWxTdxL6"
      },
      "outputs": [],
      "source": [
        "class BahdanauAttention(tf.keras.layers.Layer):\n",
        "  def __init__(self, units):\n",
        "    super(BahdanauAttention, self).__init__()\n",
        "    self.W1 = tf.keras.layers.Dense(units)\n",
        "    self.W2 = tf.keras.layers.Dense(units)\n",
        "    self.V = tf.keras.layers.Dense(1)\n",
        "\n",
        "  def call(self, query, values):\n",
        "    # hidden shape == (batch_size, hidden size)\n",
        "    # hidden_with_time_axis shape == (batch_size, 1, hidden size)\n",
        "    # we are doing this to perform addition to calculate the score\n",
        "    hidden_with_time_axis = tf.expand_dims(query, 1)\n",
        "\n",
        "    # score shape == (batch_size, max_length, 1)\n",
        "    # we get 1 at the last axis because we are applying score to self.V\n",
        "    # the shape of the tensor before applying self.V is (batch_size, max_length, units)\n",
        "    score = self.V(tf.nn.tanh(\n",
        "        self.W1(values) + self.W2(hidden_with_time_axis)))\n",
        "\n",
        "    # attention_weights shape == (batch_size, max_length, 1)\n",
        "    attention_weights = tf.nn.softmax(score, axis=1)\n",
        "\n",
        "    # context_vector shape after sum == (batch_size, hidden_size)\n",
        "    context_vector = attention_weights * values\n",
        "    context_vector = tf.reduce_sum(context_vector, axis=1)\n",
        "\n",
        "    return context_vector, attention_weights"
      ]
    },
    {
      "cell_type": "code",
      "execution_count": null,
      "metadata": {
        "colab": {
          "base_uri": "https://localhost:8080/"
        },
        "id": "cc4ayM5ReAQK",
        "outputId": "1e6f200a-4a70-4761-f3ef-0b4921dc7e50"
      },
      "outputs": [
        {
          "output_type": "stream",
          "name": "stdout",
          "text": [
            "Attention result shape: (batch size, units) (32, 1024)\n",
            "Attention weights shape: (batch_size, sequence_length, 1) (32, 143, 1)\n"
          ]
        }
      ],
      "source": [
        "attention_layer = BahdanauAttention(10)\n",
        "attention_result, attention_weights = attention_layer(sample_hidden, sample_output)\n",
        "\n",
        "print(\"Attention result shape: (batch size, units) {}\".format(attention_result.shape))\n",
        "print(\"Attention weights shape: (batch_size, sequence_length, 1) {}\".format(attention_weights.shape))"
      ]
    },
    {
      "cell_type": "code",
      "execution_count": null,
      "metadata": {
        "id": "XIB6C-uqeEz6"
      },
      "outputs": [],
      "source": [
        "class Decoder(tf.keras.Model):\n",
        "  def __init__(self, vocab_size, embedding_dim, dec_units, batch_sz):\n",
        "    super(Decoder, self).__init__()\n",
        "    self.batch_sz = batch_sz\n",
        "    self.dec_units = dec_units\n",
        "    self.embedding = tf.keras.layers.Embedding(vocab_size, embedding_dim)\n",
        "    self.gru = tf.keras.layers.GRU(self.dec_units,\n",
        "                                   return_sequences=True,\n",
        "                                   return_state=True,\n",
        "                                   recurrent_initializer='glorot_uniform')\n",
        "    self.fc = tf.keras.layers.Dense(vocab_size)\n",
        "\n",
        "    # used for attention\n",
        "    self.attention = BahdanauAttention(self.dec_units)\n",
        "\n",
        "  def call(self, x, hidden, enc_output):\n",
        "    # enc_output shape == (batch_size, max_length, hidden_size)\n",
        "    context_vector, attention_weights = self.attention(hidden, enc_output)\n",
        "\n",
        "    # x shape after passing through embedding == (batch_size, 1, embedding_dim)\n",
        "    x = self.embedding(x)\n",
        "\n",
        "    # x shape after concatenation == (batch_size, 1, embedding_dim + hidden_size)\n",
        "    x = tf.concat([tf.expand_dims(context_vector, 1), x], axis=-1)\n",
        "\n",
        "    # passing the concatenated vector to the GRU\n",
        "    output, state = self.gru(x)\n",
        "\n",
        "    # output shape == (batch_size * 1, hidden_size)\n",
        "    output = tf.reshape(output, (-1, output.shape[2]))\n",
        "\n",
        "    # output shape == (batch_size, vocab)\n",
        "    x = self.fc(output)\n",
        "\n",
        "    return x, state, attention_weights"
      ]
    },
    {
      "cell_type": "code",
      "execution_count": null,
      "metadata": {
        "colab": {
          "base_uri": "https://localhost:8080/"
        },
        "id": "Ur1Eyu_WeMpi",
        "outputId": "2685aafd-4c59-427e-bffa-e6100fae0ce2"
      },
      "outputs": [
        {
          "output_type": "stream",
          "name": "stdout",
          "text": [
            "Decoder output shape: (batch_size, vocab size) (32, 1379)\n"
          ]
        }
      ],
      "source": [
        "decoder = Decoder(vocab_tar_size, embedding_dim, units, BATCH_SIZE)\n",
        "\n",
        "sample_decoder_output, _, _ = decoder(tf.random.uniform((BATCH_SIZE, 1)),\n",
        "                                      sample_hidden, sample_output)\n",
        "\n",
        "print ('Decoder output shape: (batch_size, vocab size) {}'.format(sample_decoder_output.shape))"
      ]
    },
    {
      "cell_type": "code",
      "execution_count": null,
      "metadata": {
        "id": "RLAp3qdleP5K"
      },
      "outputs": [],
      "source": [
        "optimizer = tf.keras.optimizers.Adam()\n",
        "loss_object = tf.keras.losses.SparseCategoricalCrossentropy(\n",
        "    from_logits=True, reduction='none')\n",
        "\n",
        "def loss_function(real, pred):\n",
        "  mask = tf.math.logical_not(tf.math.equal(real, 0))\n",
        "  loss_ = loss_object(real, pred)\n",
        "\n",
        "  mask = tf.cast(mask, dtype=loss_.dtype)\n",
        "  loss_ *= mask\n",
        "\n",
        "  return tf.reduce_mean(loss_)"
      ]
    },
    {
      "cell_type": "code",
      "execution_count": null,
      "metadata": {
        "id": "KT58VP6oeUoL"
      },
      "outputs": [],
      "source": [
        "checkpoint_dir = 'training_checkpoints'\n",
        "checkpoint_prefix = os.path.join(checkpoint_dir, \"ckpt\")\n",
        "checkpoint = tf.train.Checkpoint(optimizer=optimizer,\n",
        "                                 encoder=encoder,\n",
        "                                 decoder=decoder)"
      ]
    },
    {
      "cell_type": "code",
      "execution_count": null,
      "metadata": {
        "id": "n_-weVdXeYMT"
      },
      "outputs": [],
      "source": [
        "@tf.function\n",
        "def train_step(inp, targ, enc_hidden):\n",
        "  loss = 0\n",
        "\n",
        "  with tf.GradientTape() as tape:\n",
        "    enc_output, enc_hidden = encoder(inp, enc_hidden)\n",
        "\n",
        "    dec_hidden = enc_hidden\n",
        "\n",
        "    dec_input = tf.expand_dims([target_sentence_tokenizer.word_index['start_']] * BATCH_SIZE, 1)\n",
        "\n",
        "    # Teacher forcing - feeding the target as the next input\n",
        "    for t in range(1, targ.shape[1]):\n",
        "      # passing enc_output to the decoder\n",
        "      predictions, dec_hidden, _ = decoder(dec_input, dec_hidden, enc_output)\n",
        "\n",
        "      loss += loss_function(targ[:, t], predictions)\n",
        "\n",
        "      # using teacher forcing\n",
        "      dec_input = tf.expand_dims(targ[:, t], 1)\n",
        "\n",
        "  batch_loss = (loss / int(targ.shape[1]))\n",
        "\n",
        "  variables = encoder.trainable_variables + decoder.trainable_variables\n",
        "\n",
        "  gradients = tape.gradient(loss, variables)\n",
        "\n",
        "  optimizer.apply_gradients(zip(gradients, variables))\n",
        "\n",
        "  return batch_loss"
      ]
    },
    {
      "cell_type": "code",
      "execution_count": null,
      "metadata": {
        "colab": {
          "base_uri": "https://localhost:8080/"
        },
        "id": "NxP05MY3ecZa",
        "outputId": "003b197a-f12f-4e96-9444-0533ab3a0e0c"
      },
      "outputs": [
        {
          "output_type": "execute_result",
          "data": {
            "text/plain": [
              "50"
            ]
          },
          "metadata": {},
          "execution_count": 185
        }
      ],
      "source": [
        "steps_per_epoch"
      ]
    },
    {
      "cell_type": "code",
      "execution_count": null,
      "metadata": {
        "colab": {
          "base_uri": "https://localhost:8080/"
        },
        "id": "awQScswwefQi",
        "outputId": "24738c35-115a-436b-ea94-2181d3a8c6cc"
      },
      "outputs": [
        {
          "output_type": "stream",
          "name": "stdout",
          "text": [
            "Epoch 1 Batch 0 loss 2.485333204269409\n",
            "Epoch 1 Batch 5 loss 2.67923903465271\n",
            "Epoch 1 Batch 10 loss 1.744761347770691\n",
            "Epoch 1 Batch 15 loss 1.6105165481567383\n",
            "Epoch 1 Batch 20 loss 1.5583428144454956\n",
            "Epoch 1 Batch 25 loss 1.4441008567810059\n",
            "Epoch 1 Batch 30 loss 1.2676645517349243\n",
            "Epoch 1 Batch 35 loss 1.3486435413360596\n",
            "Epoch 1 Batch 40 loss 1.2127103805541992\n",
            "Epoch 1 Batch 45 loss 1.2759389877319336\n",
            "Epoch 1 Loss 1.5735\n",
            "Time taken for 1 epoch 465.14484691619873 sec\n",
            "\n",
            "Epoch 2 Batch 0 loss 1.3832800388336182\n",
            "Epoch 2 Batch 5 loss 1.3179389238357544\n",
            "Epoch 2 Batch 10 loss 1.1965248584747314\n",
            "Epoch 2 Batch 15 loss 1.2647531032562256\n",
            "Epoch 2 Batch 20 loss 1.359142541885376\n",
            "Epoch 2 Batch 25 loss 1.3191978931427002\n",
            "Epoch 2 Batch 30 loss 1.1937882900238037\n",
            "Epoch 2 Batch 35 loss 1.1813324689865112\n",
            "Epoch 2 Batch 40 loss 1.1742109060287476\n",
            "Epoch 2 Batch 45 loss 1.1878907680511475\n",
            "Epoch 2 Loss 1.2563\n",
            "Time taken for 1 epoch 434.09901237487793 sec\n",
            "\n",
            "Epoch 3 Batch 0 loss 1.2130502462387085\n",
            "Epoch 3 Batch 5 loss 1.1148886680603027\n",
            "Epoch 3 Batch 10 loss 1.1391932964324951\n",
            "Epoch 3 Batch 15 loss 1.1608930826187134\n",
            "Epoch 3 Batch 20 loss 1.2612097263336182\n",
            "Epoch 3 Batch 25 loss 1.2404441833496094\n",
            "Epoch 3 Batch 30 loss 1.1993225812911987\n",
            "Epoch 3 Batch 35 loss 1.1665053367614746\n",
            "Epoch 3 Batch 40 loss 1.2502409219741821\n",
            "Epoch 3 Batch 45 loss 1.1750389337539673\n",
            "Epoch 3 Loss 1.1991\n",
            "Time taken for 1 epoch 432.3860113620758 sec\n",
            "\n",
            "Epoch 4 Batch 0 loss 1.0726110935211182\n",
            "Epoch 4 Batch 5 loss 1.1174918413162231\n",
            "Epoch 4 Batch 10 loss 1.1216100454330444\n",
            "Epoch 4 Batch 15 loss 1.1634198427200317\n",
            "Epoch 4 Batch 20 loss 1.1793394088745117\n",
            "Epoch 4 Batch 25 loss 1.1857258081436157\n",
            "Epoch 4 Batch 30 loss 1.1354349851608276\n",
            "Epoch 4 Batch 35 loss 1.1305097341537476\n",
            "Epoch 4 Batch 40 loss 1.154306411743164\n",
            "Epoch 4 Batch 45 loss 1.1776511669158936\n",
            "Epoch 4 Loss 1.1611\n",
            "Time taken for 1 epoch 447.1026794910431 sec\n",
            "\n",
            "Epoch 5 Batch 0 loss 1.1358919143676758\n",
            "Epoch 5 Batch 5 loss 1.0901548862457275\n",
            "Epoch 5 Batch 10 loss 1.1275169849395752\n",
            "Epoch 5 Batch 15 loss 1.0403516292572021\n",
            "Epoch 5 Batch 20 loss 1.172616720199585\n",
            "Epoch 5 Batch 25 loss 1.0764509439468384\n",
            "Epoch 5 Batch 30 loss 1.3242859840393066\n",
            "Epoch 5 Batch 35 loss 1.0896010398864746\n",
            "Epoch 5 Batch 40 loss 1.2072982788085938\n",
            "Epoch 5 Batch 45 loss 1.1463384628295898\n",
            "Epoch 5 Loss 1.1329\n",
            "Time taken for 1 epoch 500.81873846054077 sec\n",
            "\n",
            "Epoch 6 Batch 0 loss 1.13379967212677\n",
            "Epoch 6 Batch 5 loss 1.0885515213012695\n",
            "Epoch 6 Batch 10 loss 1.0551116466522217\n",
            "Epoch 6 Batch 15 loss 1.0899361371994019\n",
            "Epoch 6 Batch 20 loss 1.0990859270095825\n",
            "Epoch 6 Batch 25 loss 1.0725653171539307\n",
            "Epoch 6 Batch 30 loss 1.176221251487732\n",
            "Epoch 6 Batch 35 loss 1.128839373588562\n",
            "Epoch 6 Batch 40 loss 1.1107921600341797\n",
            "Epoch 6 Batch 45 loss 1.1486873626708984\n",
            "Epoch 6 Loss 1.1133\n",
            "Time taken for 1 epoch 522.4839556217194 sec\n",
            "\n",
            "Epoch 7 Batch 0 loss 1.0768885612487793\n",
            "Epoch 7 Batch 5 loss 1.077578067779541\n",
            "Epoch 7 Batch 10 loss 1.0239614248275757\n",
            "Epoch 7 Batch 15 loss 1.1379930973052979\n",
            "Epoch 7 Batch 20 loss 1.1622370481491089\n",
            "Epoch 7 Batch 25 loss 1.0674678087234497\n",
            "Epoch 7 Batch 30 loss 1.1410778760910034\n",
            "Epoch 7 Batch 35 loss 1.0539116859436035\n",
            "Epoch 7 Batch 40 loss 1.1184606552124023\n",
            "Epoch 7 Batch 45 loss 1.1124753952026367\n",
            "Epoch 7 Loss 1.0959\n",
            "Time taken for 1 epoch 487.0126430988312 sec\n",
            "\n",
            "Epoch 8 Batch 0 loss 1.0562808513641357\n",
            "Epoch 8 Batch 5 loss 1.0417892932891846\n",
            "Epoch 8 Batch 10 loss 1.0558950901031494\n",
            "Epoch 8 Batch 15 loss 1.1288527250289917\n",
            "Epoch 8 Batch 20 loss 1.121323585510254\n",
            "Epoch 8 Batch 25 loss 1.0861554145812988\n",
            "Epoch 8 Batch 30 loss 1.072765588760376\n",
            "Epoch 8 Batch 35 loss 1.14471435546875\n",
            "Epoch 8 Batch 40 loss 1.150757908821106\n",
            "Epoch 8 Batch 45 loss 1.0740127563476562\n",
            "Epoch 8 Loss 1.0761\n",
            "Time taken for 1 epoch 437.6264431476593 sec\n",
            "\n",
            "Epoch 9 Batch 0 loss 1.0107145309448242\n",
            "Epoch 9 Batch 5 loss 1.1227957010269165\n",
            "Epoch 9 Batch 10 loss 1.0542885065078735\n",
            "Epoch 9 Batch 15 loss 0.9148015379905701\n",
            "Epoch 9 Batch 20 loss 0.9960488677024841\n",
            "Epoch 9 Batch 25 loss 1.0477349758148193\n",
            "Epoch 9 Batch 30 loss 1.0290429592132568\n",
            "Epoch 9 Batch 35 loss 1.003433346748352\n",
            "Epoch 9 Batch 40 loss 1.1193491220474243\n",
            "Epoch 9 Batch 45 loss 1.086400032043457\n",
            "Epoch 9 Loss 1.0498\n",
            "Time taken for 1 epoch 508.9754853248596 sec\n",
            "\n",
            "Epoch 10 Batch 0 loss 0.9706277847290039\n",
            "Epoch 10 Batch 5 loss 0.890734076499939\n",
            "Epoch 10 Batch 10 loss 1.0199569463729858\n",
            "Epoch 10 Batch 15 loss 0.9753791689872742\n",
            "Epoch 10 Batch 20 loss 1.0371475219726562\n",
            "Epoch 10 Batch 25 loss 0.9862731695175171\n",
            "Epoch 10 Batch 30 loss 1.0016988515853882\n",
            "Epoch 10 Batch 35 loss 1.0357428789138794\n",
            "Epoch 10 Batch 40 loss 1.100287675857544\n",
            "Epoch 10 Batch 45 loss 1.0063104629516602\n",
            "Epoch 10 Loss 1.0100\n",
            "Time taken for 1 epoch 444.3872606754303 sec\n",
            "\n",
            "Epoch 11 Batch 0 loss 0.883698582649231\n",
            "Epoch 11 Batch 5 loss 0.9283310770988464\n",
            "Epoch 11 Batch 10 loss 0.8904743194580078\n",
            "Epoch 11 Batch 15 loss 0.9381775856018066\n",
            "Epoch 11 Batch 20 loss 1.0153071880340576\n",
            "Epoch 11 Batch 25 loss 1.005543828010559\n",
            "Epoch 11 Batch 30 loss 0.974094033241272\n",
            "Epoch 11 Batch 35 loss 1.0332281589508057\n",
            "Epoch 11 Batch 40 loss 0.9482995867729187\n",
            "Epoch 11 Batch 45 loss 1.0054619312286377\n",
            "Epoch 11 Loss 0.9689\n",
            "Time taken for 1 epoch 442.38889956474304 sec\n",
            "\n",
            "Epoch 12 Batch 0 loss 0.8798789978027344\n",
            "Epoch 12 Batch 5 loss 0.896328330039978\n",
            "Epoch 12 Batch 10 loss 0.9262076616287231\n",
            "Epoch 12 Batch 15 loss 0.8631134033203125\n",
            "Epoch 12 Batch 20 loss 0.9235934019088745\n",
            "Epoch 12 Batch 25 loss 1.0116058588027954\n",
            "Epoch 12 Batch 30 loss 0.9351917505264282\n",
            "Epoch 12 Batch 35 loss 0.966590404510498\n",
            "Epoch 12 Batch 40 loss 0.9840176105499268\n",
            "Epoch 12 Batch 45 loss 0.9767888784408569\n",
            "Epoch 12 Loss 0.9347\n",
            "Time taken for 1 epoch 431.21522402763367 sec\n",
            "\n",
            "Epoch 13 Batch 0 loss 0.809558093547821\n",
            "Epoch 13 Batch 5 loss 0.852754533290863\n",
            "Epoch 13 Batch 10 loss 0.8125718832015991\n",
            "Epoch 13 Batch 15 loss 0.9039618372917175\n",
            "Epoch 13 Batch 20 loss 0.8922349214553833\n",
            "Epoch 13 Batch 25 loss 0.9267934560775757\n",
            "Epoch 13 Batch 30 loss 0.9549504518508911\n",
            "Epoch 13 Batch 35 loss 0.8090986609458923\n",
            "Epoch 13 Batch 40 loss 0.8825509548187256\n",
            "Epoch 13 Batch 45 loss 0.9263982176780701\n",
            "Epoch 13 Loss 0.8882\n",
            "Time taken for 1 epoch 433.3146035671234 sec\n",
            "\n",
            "Epoch 14 Batch 0 loss 0.7837401628494263\n",
            "Epoch 14 Batch 5 loss 0.748163640499115\n",
            "Epoch 14 Batch 10 loss 0.7672381401062012\n",
            "Epoch 14 Batch 15 loss 0.8063046336174011\n",
            "Epoch 14 Batch 20 loss 0.8575384616851807\n",
            "Epoch 14 Batch 25 loss 0.8823744058609009\n",
            "Epoch 14 Batch 30 loss 0.8481459617614746\n",
            "Epoch 14 Batch 35 loss 0.7984201312065125\n",
            "Epoch 14 Batch 40 loss 0.8844552040100098\n",
            "Epoch 14 Batch 45 loss 0.9339967966079712\n",
            "Epoch 14 Loss 0.8255\n",
            "Time taken for 1 epoch 437.0760416984558 sec\n",
            "\n",
            "Epoch 15 Batch 0 loss 0.7092496752738953\n",
            "Epoch 15 Batch 5 loss 0.6838860511779785\n",
            "Epoch 15 Batch 10 loss 0.6891113519668579\n",
            "Epoch 15 Batch 15 loss 0.7355961799621582\n",
            "Epoch 15 Batch 20 loss 0.7748994827270508\n",
            "Epoch 15 Batch 25 loss 0.746649980545044\n",
            "Epoch 15 Batch 30 loss 0.8352178931236267\n",
            "Epoch 15 Batch 35 loss 0.776396632194519\n",
            "Epoch 15 Batch 40 loss 0.830793023109436\n",
            "Epoch 15 Batch 45 loss 0.8550525903701782\n",
            "Epoch 15 Loss 0.7581\n",
            "Time taken for 1 epoch 447.96916222572327 sec\n",
            "\n",
            "Epoch 16 Batch 0 loss 0.6318581104278564\n",
            "Epoch 16 Batch 5 loss 0.6283808946609497\n",
            "Epoch 16 Batch 10 loss 0.6591033935546875\n",
            "Epoch 16 Batch 15 loss 0.5863065719604492\n",
            "Epoch 16 Batch 20 loss 0.6600911617279053\n",
            "Epoch 16 Batch 25 loss 0.6491665840148926\n",
            "Epoch 16 Batch 30 loss 0.7227380275726318\n",
            "Epoch 16 Batch 35 loss 0.6348441243171692\n",
            "Epoch 16 Batch 40 loss 0.8239935636520386\n",
            "Epoch 16 Batch 45 loss 0.7285300493240356\n",
            "Epoch 16 Loss 0.6924\n",
            "Time taken for 1 epoch 442.87990736961365 sec\n",
            "\n",
            "Epoch 17 Batch 0 loss 0.5926387310028076\n",
            "Epoch 17 Batch 5 loss 0.5240635275840759\n"
          ]
        }
      ],
      "source": [
        "# EPOCHS = 20\n",
        "EPOCHS = 20\n",
        "\n",
        "for epoch in range(EPOCHS):\n",
        "  start = time.time()\n",
        "\n",
        "  enc_hidden = encoder.initialize_hidden_state()\n",
        "  total_loss = 0\n",
        "\n",
        "  for (batch, (inp, targ)) in enumerate(dataset.take(steps_per_epoch)):\n",
        "    batch_loss = train_step(inp, targ, enc_hidden)\n",
        "    if batch_loss<0.5:\n",
        "      break\n",
        "    total_loss += batch_loss\n",
        "    if batch % 10 == 0:\n",
        "      print('Epoch {} Batch {} loss {}'.format(epoch + 1,batch, batch_loss.numpy()))\n",
        "   \n",
        "      \n",
        "  # saving (checkpoint) the model every 2 epochs\n",
        "  if (epoch + 1) % 2 == 0:\n",
        "    checkpoint.save(file_prefix = checkpoint_prefix)\n",
        "\n",
        "  if total_loss / steps_per_epoch <0.5:\n",
        "    break\n",
        "\n",
        "  print('Epoch {} Loss {:.4f}'.format(epoch + 1,\n",
        "                                      total_loss / steps_per_epoch))\n",
        "  print('Time taken for 1 epoch {} sec\\n'.format(time.time() - start))"
      ]
    },
    {
      "cell_type": "code",
      "execution_count": null,
      "metadata": {
        "id": "Uc-3zBHfe65U"
      },
      "outputs": [],
      "source": [
        "def evaluate(sentence):\n",
        "  attention_plot = np.zeros((max_target_length, max_source_length))\n",
        "\n",
        "  sentence = preprocess_sentence(sentence)\n",
        "  #print(sentence)\n",
        "  #print(source_sentence_tokenizer.word_index)\n",
        "\n",
        "  inputs = [source_sentence_tokenizer.word_index[i] for i in sentence.split(' ')]\n",
        "  inputs = tf.keras.preprocessing.sequence.pad_sequences([inputs],\n",
        "                                                         maxlen=max_source_length,\n",
        "                                                         padding='post')\n",
        "  inputs = tf.convert_to_tensor(inputs)\n",
        "\n",
        "  result = ''\n",
        "\n",
        "  hidden = [tf.zeros((1, units))]\n",
        "  enc_out, enc_hidden = encoder(inputs, hidden)\n",
        "\n",
        "  dec_hidden = enc_hidden\n",
        "  dec_input = tf.expand_dims([target_sentence_tokenizer.word_index['start_']], 0)\n",
        "\n",
        "  for t in range(max_target_length):\n",
        "    predictions, dec_hidden, attention_weights = decoder(dec_input,\n",
        "                                                         dec_hidden,\n",
        "                                                         enc_out)\n",
        "\n",
        "    # storing the attention weights to plot later on\n",
        "    attention_weights = tf.reshape(attention_weights, (-1, ))\n",
        "    attention_plot[t] = attention_weights.numpy()\n",
        "\n",
        "    predicted_id = tf.argmax(predictions[0]).numpy()\n",
        "\n",
        "    result += target_sentence_tokenizer.index_word[predicted_id] + ' '\n",
        "\n",
        "    if target_sentence_tokenizer.index_word[predicted_id] == '_end':\n",
        "      return result, sentence, attention_plot\n",
        "\n",
        "    # the predicted ID is fed back into the model\n",
        "    dec_input = tf.expand_dims([predicted_id], 0)\n",
        "\n",
        "  return result, sentence, attention_plot"
      ]
    },
    {
      "cell_type": "code",
      "execution_count": null,
      "metadata": {
        "id": "rvP3P2GNaz7t"
      },
      "outputs": [],
      "source": [
        "# function for plotting the attention weights\n",
        "def plot_attention(attention, sentence, predicted_sentence):\n",
        "  fig = plt.figure(figsize=(10,10))\n",
        "  ax = fig.add_subplot(1, 1, 1)\n",
        "  ax.matshow(attention, cmap='viridis')\n",
        "\n",
        "  fontdict = {'fontsize': 14}\n",
        "\n",
        "  ax.set_xticklabels([''] + sentence, fontdict=fontdict, rotation=90)\n",
        "  ax.set_yticklabels([''] + predicted_sentence, fontdict=fontdict)\n",
        "\n",
        "  ax.xaxis.set_major_locator(ticker.MultipleLocator(1))\n",
        "  ax.yaxis.set_major_locator(ticker.MultipleLocator(1))\n",
        "\n",
        "  plt.show()"
      ]
    },
    {
      "cell_type": "code",
      "execution_count": null,
      "metadata": {
        "id": "Z1pxw9tLa8AV"
      },
      "outputs": [],
      "source": [
        "def translate(sentence):\n",
        "  result, sentence, attention_plot = evaluate(sentence)\n",
        "  \n",
        "  print('Input: %s' % (sentence))\n",
        "  print('Predicted translation: {}'.format(result))\n",
        "\n",
        "  attention_plot = attention_plot[:len(result.split(' ')), :len(sentence.split(' '))]\n",
        "  plot_attention(attention_plot, sentence.split(' '), result.split(' '))"
      ]
    },
    {
      "cell_type": "code",
      "execution_count": null,
      "metadata": {
        "id": "er1QhJzCbBhc",
        "colab": {
          "base_uri": "https://localhost:8080/"
        },
        "outputId": "d8dd0cf6-c780-46f4-f44f-311788b6d93c"
      },
      "outputs": [
        {
          "output_type": "execute_result",
          "data": {
            "text/plain": [
              "<tensorflow.python.training.tracking.util.CheckpointLoadStatus at 0x7f6c1becba50>"
            ]
          },
          "metadata": {},
          "execution_count": 141
        }
      ],
      "source": [
        "# restoring the latest checkpoint in checkpoint_dir\n",
        "checkpoint.restore(tf.train.latest_checkpoint(checkpoint_dir))"
      ]
    },
    {
      "cell_type": "code",
      "execution_count": null,
      "metadata": {
        "id": "swxaZinAbBkS"
      },
      "outputs": [],
      "source": [
        "translate(u'I am going to work.')"
      ]
    },
    {
      "cell_type": "code",
      "source": [
        "def evaluate(sentence):\n",
        "  attention_plot = np.zeros((max_target_length, max_source_length))\n",
        "\n",
        "  # sentence = preprocess_sentence(sentence)\n",
        "  # #print(sentence)\n",
        "  # #print(source_sentence_tokenizer.word_index)\n",
        "\n",
        "  # inputs = [source_sentence_tokenizer.word_index[i] for i in sentence.split(' ')]\n",
        "  # inputs = tf.keras.preprocessing.sequence.pad_sequences([inputs],\n",
        "                                                        #  maxlen=max_source_length,\n",
        "                                                        #  padding='post')\n",
        "  # inputs = tf.convert_to_tensor(inputs)\n",
        "  inputs=sentence\n",
        "  result = ''\n",
        "\n",
        "  hidden = [tf.zeros((1, units))]\n",
        "  enc_out, enc_hidden = encoder(inputs, hidden)\n",
        "\n",
        "  dec_hidden = enc_hidden\n",
        "  dec_input = tf.expand_dims([target_sentence_tokenizer.word_index['start_']], 0)\n",
        "\n",
        "  for t in range(max_target_length):\n",
        "    predictions, dec_hidden, attention_weights = decoder(dec_input,\n",
        "                                                         dec_hidden,\n",
        "                                                         enc_out)\n",
        "\n",
        "    # storing the attention weights to plot later on\n",
        "    attention_weights = tf.reshape(attention_weights, (-1, ))\n",
        "    attention_plot[t] = attention_weights.numpy()\n",
        "\n",
        "    predicted_id = tf.argmax(predictions[0]).numpy()\n",
        "\n",
        "    result += target_sentence_tokenizer.index_word[predicted_id] + ' '\n",
        "\n",
        "    if target_sentence_tokenizer.index_word[predicted_id] == '_end':\n",
        "      return result, sentence, attention_plot\n",
        "\n",
        "    # the predicted ID is fed back into the model\n",
        "    dec_input = tf.expand_dims([predicted_id], 0)\n",
        "\n",
        "  return result, sentence, attention_plot"
      ],
      "metadata": {
        "id": "86iaWvtjHXlC"
      },
      "execution_count": null,
      "outputs": []
    },
    {
      "cell_type": "code",
      "source": [
        "def translate(sentence):\n",
        "  result, sentence, attention_plot = evaluate(sentence)\n",
        "  \n",
        "  # print('Input: %s' % (sentence))\n",
        "  print('Predicted translation: {}'.format(result))\n",
        "\n",
        "  # attention_plot = attention_plot[:len(result.split(' ')), :len(sentence.split(' '))]\n",
        "  # plot_attention(attention_plot, sentence.split(' '), result.split(' '))"
      ],
      "metadata": {
        "id": "-_bZeavJHw47"
      },
      "execution_count": null,
      "outputs": []
    },
    {
      "cell_type": "code",
      "source": [
        "# restoring the latest checkpoint in checkpoint_dir\n",
        "checkpoint.restore(tf.train.latest_checkpoint(checkpoint_dir))"
      ],
      "metadata": {
        "colab": {
          "base_uri": "https://localhost:8080/"
        },
        "id": "128N5DlOHw7L",
        "outputId": "0a318ccb-6113-4d42-83b7-a6503d539162"
      },
      "execution_count": null,
      "outputs": [
        {
          "output_type": "execute_result",
          "data": {
            "text/plain": [
              "<tensorflow.python.training.tracking.util.CheckpointLoadStatus at 0x7f6b98033e10>"
            ]
          },
          "metadata": {},
          "execution_count": 148
        }
      ]
    },
    {
      "cell_type": "code",
      "source": [
        "# Getting answer for a question.\n",
        "\n",
        "translate('The last opus number that Chopin himself used was 65 allocated to the Cello Sonata in G minor He expressed a deathbed wish that all his unpublished manuscripts be destroyed At the request of the composers mother and sisters however his musical executor Julian Fontana selected 23 unpublished piano pieces and grouped them into eight further opus numbers published in 1855 In 1857 17 Polish songs that Chopin wrote at various stages of his life were collected and published as Op 74 though their order within the opus did not reflect the order of composition SEP Who grouped 23 unpublished pieces and published them as Opp in 1855')"
      ],
      "metadata": {
        "id": "D_C4zmoiHw9d"
      },
      "execution_count": null,
      "outputs": []
    },
    {
      "cell_type": "code",
      "source": [
        "for i in input_tensor_val[100:110]:\n",
        "  x=np.expand_dims(i,0)\n",
        "  print([translate(x)])"
      ],
      "metadata": {
        "colab": {
          "base_uri": "https://localhost:8080/"
        },
        "id": "pk4DDsHFHw_v",
        "outputId": "5311c216-9555-4a2d-fd78-ee0291376897"
      },
      "execution_count": null,
      "outputs": [
        {
          "output_type": "stream",
          "name": "stdout",
          "text": [
            "Predicted translation: architect _end \n",
            "[None]\n",
            "Predicted translation: prajñāpāramitā _end \n",
            "[None]\n",
            "Predicted translation: endurance _end \n",
            "[None]\n",
            "Predicted translation: europe _end \n",
            "[None]\n",
            "Predicted translation: copper _end \n",
            "[None]\n",
            "Predicted translation: france _end \n",
            "[None]\n",
            "Predicted translation: 2013 _end \n",
            "[None]\n",
            "Predicted translation: extinct . _end \n",
            "[None]\n",
            "Predicted translation: john _end \n",
            "[None]\n",
            "Predicted translation: 65 _end \n",
            "[None]\n"
          ]
        }
      ]
    },
    {
      "cell_type": "code",
      "source": [
        "for i in input_tensor_train[100:110]:\n",
        "  x=np.expand_dims(i,0)\n",
        "  print([translate(x)])"
      ],
      "metadata": {
        "colab": {
          "base_uri": "https://localhost:8080/"
        },
        "id": "LN7Xif4iIYGO",
        "outputId": "acab481f-172f-4c11-cfa7-1db04e6a1a70"
      },
      "execution_count": null,
      "outputs": [
        {
          "output_type": "stream",
          "name": "stdout",
          "text": [
            "Predicted translation: 1924 _end \n",
            "[None]\n",
            "Predicted translation: eurasia _end \n",
            "[None]\n",
            "Predicted translation: paris _end \n",
            "[None]\n",
            "Predicted translation: 2006 _end \n",
            "[None]\n",
            "Predicted translation: sovdepia _end \n",
            "[None]\n",
            "Predicted translation: copper _end \n",
            "[None]\n",
            "Predicted translation: hunter-gatherers _end \n",
            "[None]\n",
            "Predicted translation: peaceful _end \n",
            "[None]\n",
            "Predicted translation: orthodox _end \n",
            "[None]\n",
            "Predicted translation: sterilizations _end \n",
            "[None]\n"
          ]
        }
      ]
    },
    {
      "cell_type": "code",
      "source": [
        "for i in target[100:110]:\n",
        "  print(i)\n",
        "for i in source[100:110]:\n",
        "  print(i)"
      ],
      "metadata": {
        "colab": {
          "base_uri": "https://localhost:8080/"
        },
        "id": "hYKVDzYYHxJk",
        "outputId": "9646aeb4-b48f-4439-e8ad-0de80895005c"
      },
      "execution_count": null,
      "outputs": [
        {
          "output_type": "stream",
          "name": "stdout",
          "text": [
            "start_ 7 _end\n",
            "start_ 1817 _end\n",
            "start_ ludwika _end\n",
            "start_ szafarnia _end\n",
            "start_ szafarnia _end\n",
            "start_ 1828 _end\n",
            "start_ zoologist _end\n",
            "start_ 1829 _end\n",
            "start_ french _end\n",
            "start_ 1835 _end\n",
            "start_ fryderyk may have had some piano instruction from his mother ,  but his first professional music tutor ,  from 1816 to 1821 ,  was the czech pianist wojciech żywny .  his elder sister ludwika also took lessons from żywny ,  and occasionally played duets with her brother .  it quickly became apparent that he was a child prodigy .  by the age of seven fryderyk had begun giving public concerts ,  and in 1817 he composed two polonaises ,  in g minor and b-flat major .  his next work ,  a polonaise in a-flat major of 1821 ,  dedicated to żywny ,  is his earliest surviving musical manuscript .  [sep] at what age did chopin start playing publicly ? _end\n",
            "start_ fryderyk may have had some piano instruction from his mother ,  but his first professional music tutor ,  from 1816 to 1821 ,  was the czech pianist wojciech żywny .  his elder sister ludwika also took lessons from żywny ,  and occasionally played duets with her brother .  it quickly became apparent that he was a child prodigy .  by the age of seven fryderyk had begun giving public concerts ,  and in 1817 he composed two polonaises ,  in g minor and b-flat major .  his next work ,  a polonaise in a-flat major of 1821 ,  dedicated to żywny ,  is his earliest surviving musical manuscript .  [sep] what year did chopin compose his first work ? _end\n",
            "start_ fryderyk may have had some piano instruction from his mother ,  but his first professional music tutor ,  from 1816 to 1821 ,  was the czech pianist wojciech żywny .  his elder sister ludwika also took lessons from żywny ,  and occasionally played duets with her brother .  it quickly became apparent that he was a child prodigy .  by the age of seven fryderyk had begun giving public concerts ,  and in 1817 he composed two polonaises ,  in g minor and b-flat major .  his next work ,  a polonaise in a-flat major of 1821 ,  dedicated to żywny ,  is his earliest surviving musical manuscript .  [sep] which of chopins sisters would play music with him ? _end\n",
            "start_ during 1824–28 chopin spent his vacations away from warsaw ,  at a number of locales . [n 4] in 1824 and 1825 ,  at szafarnia ,  he was a guest of dominik dziewanowski ,  the father of a schoolmate .  here for the first time he encountered polish rural folk music .  his letters home from szafarnia (to which he gave the title \"the szafarnia courier\") ,  written in a very modern and lively polish ,  amused his family with their spoofing of the warsaw newspapers and demonstrated the youngsters literary gift .  [sep] in which village did frédéric first experience rural polish folk music ? _end\n",
            "start_ during 1824–28 chopin spent his vacations away from warsaw ,  at a number of locales . [n 4] in 1824 and 1825 ,  at szafarnia ,  he was a guest of dominik dziewanowski ,  the father of a schoolmate .  here for the first time he encountered polish rural folk music .  his letters home from szafarnia (to which he gave the title \"the szafarnia courier\") ,  written in a very modern and lively polish ,  amused his family with their spoofing of the warsaw newspapers and demonstrated the youngsters literary gift .  [sep] where did chopin spend his vacation in 1824 and 1825 ? _end\n",
            "start_ in september 1828 chopin ,  while still a student ,  visited berlin with a family friend ,  zoologist feliks jarocki ,  enjoying operas directed by gaspare spontini and attending concerts by carl friedrich zelter ,  felix mendelssohn and other celebrities .  on an 1829 return trip to berlin ,  he was a guest of prince antoni radziwiłł ,  governor of the grand duchy of posen—himself an accomplished composer and aspiring cellist .  for the prince and his pianist daughter wanda ,  he composed his introduction and polonaise brillante in c major for cello and piano ,  op .  3 .  [sep] what year did chopin visit berlin while still a student ? _end\n",
            "start_ in september 1828 chopin ,  while still a student ,  visited berlin with a family friend ,  zoologist feliks jarocki ,  enjoying operas directed by gaspare spontini and attending concerts by carl friedrich zelter ,  felix mendelssohn and other celebrities .  on an 1829 return trip to berlin ,  he was a guest of prince antoni radziwiłł ,  governor of the grand duchy of posen—himself an accomplished composer and aspiring cellist .  for the prince and his pianist daughter wanda ,  he composed his introduction and polonaise brillante in c major for cello and piano ,  op .  3 .  [sep] what did the person who chopin went with to berlin do for his work ? _end\n",
            "start_ in september 1828 chopin ,  while still a student ,  visited berlin with a family friend ,  zoologist feliks jarocki ,  enjoying operas directed by gaspare spontini and attending concerts by carl friedrich zelter ,  felix mendelssohn and other celebrities .  on an 1829 return trip to berlin ,  he was a guest of prince antoni radziwiłł ,  governor of the grand duchy of posen—himself an accomplished composer and aspiring cellist .  for the prince and his pianist daughter wanda ,  he composed his introduction and polonaise brillante in c major for cello and piano ,  op .  3 .  [sep] what year did chopin return to berlin ? _end\n",
            "start_ chopin arrived in paris in late september 1831; he would never return to poland ,  thus becoming one of many expatriates of the polish great emigration .  in france he used the french versions of his given names ,  and after receiving french citizenship in 1835 ,  he travelled on a french passport .  however ,  chopin remained close to his fellow poles in exile as friends and confidants and he never felt fully comfortable speaking french .  chopins biographer adam zamoyski writes that he never considered himself to be french ,  despite his fathers french origins ,  and always saw himself as a pole .  [sep] what version of frédérics birth name did he begin using after arriving in france ? _end\n",
            "start_ chopin arrived in paris in late september 1831; he would never return to poland ,  thus becoming one of many expatriates of the polish great emigration .  in france he used the french versions of his given names ,  and after receiving french citizenship in 1835 ,  he travelled on a french passport .  however ,  chopin remained close to his fellow poles in exile as friends and confidants and he never felt fully comfortable speaking french .  chopins biographer adam zamoyski writes that he never considered himself to be french ,  despite his fathers french origins ,  and always saw himself as a pole .  [sep] in what year did frédéric officially acquire french citizenship ? _end\n"
          ]
        }
      ]
    },
    {
      "cell_type": "code",
      "source": [
        ""
      ],
      "metadata": {
        "id": "BTqcNv3TPeS0"
      },
      "execution_count": null,
      "outputs": []
    },
    {
      "cell_type": "code",
      "source": [
        "# ! cp -r /content/training_checkpoints/checkpoint /content/drive/MyDrive/squad/checkpoints/tenepochthirtytwo"
      ],
      "metadata": {
        "id": "Tiy3c9wRJlZi"
      },
      "execution_count": null,
      "outputs": []
    },
    {
      "cell_type": "code",
      "source": [
        "# ! cp -r /content/training_checkpoints/ckpt-10.data-00000-of-00001 /content/drive/MyDrive/squad/checkpoints/tenepochthirtytwo"
      ],
      "metadata": {
        "id": "65RSc_qPL9SV"
      },
      "execution_count": null,
      "outputs": []
    },
    {
      "cell_type": "code",
      "source": [
        "# ! cp -r /content/training_checkpoints/ckpt-10.index /content/drive/MyDrive/squad/checkpoints/tenepochthirtytwo"
      ],
      "metadata": {
        "id": "TLwLZghiMA7r"
      },
      "execution_count": null,
      "outputs": []
    },
    {
      "cell_type": "code",
      "source": [
        ""
      ],
      "metadata": {
        "id": "UAHJJokA6o1M"
      },
      "execution_count": null,
      "outputs": []
    }
  ],
  "metadata": {
    "colab": {
      "collapsed_sections": [],
      "name": "QA_System_on_SQuAD.ipynb",
      "provenance": []
    },
    "kernelspec": {
      "display_name": "Python 3",
      "language": "python",
      "name": "python3"
    },
    "language_info": {
      "codemirror_mode": {
        "name": "ipython",
        "version": 3
      },
      "file_extension": ".py",
      "mimetype": "text/x-python",
      "name": "python",
      "nbconvert_exporter": "python",
      "pygments_lexer": "ipython3",
      "version": "3.8.8"
    }
  },
  "nbformat": 4,
  "nbformat_minor": 0
}